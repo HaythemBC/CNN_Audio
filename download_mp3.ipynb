{
 "cells": [
  {
   "cell_type": "code",
   "execution_count": 1,
   "id": "f14c4f34",
   "metadata": {},
   "outputs": [],
   "source": [
    "import spotipy\n",
    "import time\n",
    "import wget\n",
    "from spotipy.oauth2 import SpotifyClientCredentials\n",
    "import pandas as pd\n",
    "import numpy as np\n",
    "import matplotlib.pyplot as plt\n",
    "%matplotlib inline\n",
    "import librosa\n",
    "import librosa.display\n",
    "import io\n",
    "import cv2\n",
    "import os\n",
    "from PIL import Image\n",
    "import pathlib\n",
    "import csv\n",
    "import warnings\n",
    "warnings.filterwarnings('ignore')"
   ]
  },
  {
   "cell_type": "code",
   "execution_count": 2,
   "id": "6f526d46",
   "metadata": {},
   "outputs": [],
   "source": [
    "url_dataset = 'https://github.com/Ferdinand-Genans/SpotifyProject/blob/main/dataset.csv?raw=true'\n",
    "df = pd.read_csv(url_dataset, index_col=0) #telechargement du dataset des musiques Spotify\n",
    "df = df.dropna()\n",
    "genres = ['classical','country', 'house', 'metal', 'k-pop', 'jazz', 'rock', 'pop', 'r-n-b', 'reggae']\n",
    "df = df.loc[df.track_genre.isin(genres)]\n",
    "df = df.reset_index() #pour que les indices partent de 0"
   ]
  },
  {
   "cell_type": "code",
   "execution_count": 4,
   "id": "2615a8de",
   "metadata": {},
   "outputs": [],
   "source": [
    "client_ID = '38c644944ae74728aa5fa3fc3b2d7680'\n",
    "client_SECRET = '2f76c0de09094242bb22262ca2b5bc87'\n",
    "redirect_url=''\n",
    "client_credentials_manager = SpotifyClientCredentials(client_id=client_ID, client_secret=client_SECRET)\n",
    "spotify = spotipy.Spotify(client_credentials_manager = client_credentials_manager)"
   ]
  },
  {
   "cell_type": "code",
   "execution_count": 5,
   "id": "4c50c1ab",
   "metadata": {},
   "outputs": [],
   "source": [
    "genres_ = ['pop', 'r-n-b', 'reggae']"
   ]
  },
  {
   "cell_type": "code",
   "execution_count": null,
   "id": "0e9c58a9",
   "metadata": {
    "collapsed": true
   },
   "outputs": [
    {
     "name": "stdout",
     "output_type": "stream",
     "text": [
      "\n",
      " Erreur 0 ème musique\n",
      "\n",
      " Erreur 1 ème musique\n",
      "\n",
      " Erreur 2 ème musique\n",
      "\n",
      " Erreur 3 ème musique\n",
      "\n",
      " Erreur 4 ème musique\n"
     ]
    }
   ],
   "source": [
    "for name in genres_:\n",
    "    df_name = df.loc[df.track_genre == name]\n",
    "    missings = []\n",
    "    count = 0\n",
    "    track_id = df_name['track_id']\n",
    "    for music_id in track_id:\n",
    "        time.sleep(0.8)\n",
    "        if(count==500):\n",
    "            time.sleep(200)\n",
    "\n",
    "        try: \n",
    "            music_track = spotify.track(music_id)\n",
    "            url_ = music_track['preview_url']\n",
    "            if url_ is None:\n",
    "                print(f\"\\n Erreur {count} ème musique\")\n",
    "                missings.append(count)\n",
    "            else: \n",
    "                print(f\"\\n Telechargement de {count} ème musique\")\n",
    "                path = name+str(count)+'.mp3'\n",
    "                try: \n",
    "                    wget.download(url_, out= path)\n",
    "                except: \n",
    "                    missings.append(count)\n",
    "        except: \n",
    "            missings.append(count)\n",
    "            print(f\"\\n Erreur {count} ème musique\")    \n",
    "        count += 1"
   ]
  }
 ],
 "metadata": {
  "kernelspec": {
   "display_name": "Python 3 (ipykernel)",
   "language": "python",
   "name": "python3"
  },
  "language_info": {
   "codemirror_mode": {
    "name": "ipython",
    "version": 3
   },
   "file_extension": ".py",
   "mimetype": "text/x-python",
   "name": "python",
   "nbconvert_exporter": "python",
   "pygments_lexer": "ipython3",
   "version": "3.9.12"
  }
 },
 "nbformat": 4,
 "nbformat_minor": 5
}
